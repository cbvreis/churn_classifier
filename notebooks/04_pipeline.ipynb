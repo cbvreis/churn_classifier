{
 "cells": [
  {
   "cell_type": "code",
   "execution_count": 92,
   "metadata": {
    "collapsed": true,
    "pycharm": {
     "name": "#%%\n"
    }
   },
   "outputs": [],
   "source": [
    "# data manipulation and plotting\n",
    "import pandas as pd\n",
    "import numpy as np\n",
    "import matplotlib.pyplot as plt\n",
    "\n",
    "# for saving the pipeline\n",
    "import joblib\n",
    "\n",
    "# from Scikit-learn\n",
    "from sklearn.linear_model import Lasso\n",
    "from sklearn.metrics import mean_squared_error, r2_score\n",
    "from sklearn.model_selection import train_test_split\n",
    "from sklearn.pipeline import Pipeline\n",
    "from sklearn.preprocessing import MinMaxScaler, Binarizer\n",
    "from sklearn.metrics import *\n",
    "\n",
    "\n",
    "# from feature-engine\n",
    "from feature_engine.imputation import (\n",
    "     MeanMedianImputer,\n",
    "     CategoricalImputer\n",
    ")\n",
    "\n",
    "\n",
    "from feature_engine.encoding import (\n",
    "     RareLabelEncoder,\n",
    "     OneHotEncoder,\n",
    ")\n",
    "\n",
    "\n",
    "\n",
    "from feature_engine.selection import DropFeatures\n",
    "\n",
    "from imblearn.under_sampling import RandomUnderSampler\n",
    "\n",
    "# XGboost classifier\n",
    "from xgboost import XGBClassifier\n",
    "\n",
    "\n",
    "import warnings\n",
    "warnings.filterwarnings('ignore')\n",
    "\n",
    "from helpers import MongoDAO\n",
    "from datetime import datetime\n",
    "\n",
    "#Shap-values\n",
    "# from shap import TreeExplainer\n"
   ]
  },
  {
   "cell_type": "code",
   "execution_count": 93,
   "outputs": [],
   "source": [
    "#Load data\n",
    "mongo = MongoDAO('admin', 'admin', 'localhost', 27017)\n",
    "mongo.set_db('bra_paralelo')\n",
    "mongo.set_collection('feature_store')\n",
    "account_store_collection = mongo.get_collection()"
   ],
   "metadata": {
    "collapsed": false,
    "pycharm": {
     "name": "#%%\n"
    }
   }
  },
  {
   "cell_type": "code",
   "execution_count": 94,
   "outputs": [
    {
     "name": "stdout",
     "output_type": "stream",
     "text": [
      "(14641, 17)\n"
     ]
    },
    {
     "data": {
      "text/plain": "                        _id account_id  churn    ltv  months   product  \\\n0  62f98647a101fb33dedd2c23          1      0  49.95       5  standard   \n1  62f98647a101fb33dedd2c24          2      0  49.95       5  standard   \n2  62f98647a101fb33dedd2c25          3      0  49.95       5  standard   \n3  62f98647a101fb33dedd2c26          4      0  49.95       5  standard   \n4  62f98647a101fb33dedd2c27          5      0  49.95       5  standard   \n\n     channel date_of_birth country   post   like  adview  message  reply  \\\n0  appstore2    1948-09-10      CN  329.0  323.0   184.0    123.0   59.0   \n1  appstore1    1952-11-06      AU  340.0  207.0   117.0     33.0    8.0   \n2  appstore1    2002-11-10      GB  303.0  793.0  1043.0     95.0   26.0   \n3  appstore1    1976-06-18      US  140.0  434.0   135.0    201.0   39.0   \n4  appstore1    1975-11-18      KR   21.0   46.0    66.0     54.0    8.0   \n\n   newfriend  dislike  unfriend  \n0       57.0     25.0       1.0  \n1       30.0    388.0       1.0  \n2       38.0     88.0       3.0  \n3       55.0    160.0       1.0  \n4        3.0     16.0       2.0  ",
      "text/html": "<div>\n<style scoped>\n    .dataframe tbody tr th:only-of-type {\n        vertical-align: middle;\n    }\n\n    .dataframe tbody tr th {\n        vertical-align: top;\n    }\n\n    .dataframe thead th {\n        text-align: right;\n    }\n</style>\n<table border=\"1\" class=\"dataframe\">\n  <thead>\n    <tr style=\"text-align: right;\">\n      <th></th>\n      <th>_id</th>\n      <th>account_id</th>\n      <th>churn</th>\n      <th>ltv</th>\n      <th>months</th>\n      <th>product</th>\n      <th>channel</th>\n      <th>date_of_birth</th>\n      <th>country</th>\n      <th>post</th>\n      <th>like</th>\n      <th>adview</th>\n      <th>message</th>\n      <th>reply</th>\n      <th>newfriend</th>\n      <th>dislike</th>\n      <th>unfriend</th>\n    </tr>\n  </thead>\n  <tbody>\n    <tr>\n      <th>0</th>\n      <td>62f98647a101fb33dedd2c23</td>\n      <td>1</td>\n      <td>0</td>\n      <td>49.95</td>\n      <td>5</td>\n      <td>standard</td>\n      <td>appstore2</td>\n      <td>1948-09-10</td>\n      <td>CN</td>\n      <td>329.0</td>\n      <td>323.0</td>\n      <td>184.0</td>\n      <td>123.0</td>\n      <td>59.0</td>\n      <td>57.0</td>\n      <td>25.0</td>\n      <td>1.0</td>\n    </tr>\n    <tr>\n      <th>1</th>\n      <td>62f98647a101fb33dedd2c24</td>\n      <td>2</td>\n      <td>0</td>\n      <td>49.95</td>\n      <td>5</td>\n      <td>standard</td>\n      <td>appstore1</td>\n      <td>1952-11-06</td>\n      <td>AU</td>\n      <td>340.0</td>\n      <td>207.0</td>\n      <td>117.0</td>\n      <td>33.0</td>\n      <td>8.0</td>\n      <td>30.0</td>\n      <td>388.0</td>\n      <td>1.0</td>\n    </tr>\n    <tr>\n      <th>2</th>\n      <td>62f98647a101fb33dedd2c25</td>\n      <td>3</td>\n      <td>0</td>\n      <td>49.95</td>\n      <td>5</td>\n      <td>standard</td>\n      <td>appstore1</td>\n      <td>2002-11-10</td>\n      <td>GB</td>\n      <td>303.0</td>\n      <td>793.0</td>\n      <td>1043.0</td>\n      <td>95.0</td>\n      <td>26.0</td>\n      <td>38.0</td>\n      <td>88.0</td>\n      <td>3.0</td>\n    </tr>\n    <tr>\n      <th>3</th>\n      <td>62f98647a101fb33dedd2c26</td>\n      <td>4</td>\n      <td>0</td>\n      <td>49.95</td>\n      <td>5</td>\n      <td>standard</td>\n      <td>appstore1</td>\n      <td>1976-06-18</td>\n      <td>US</td>\n      <td>140.0</td>\n      <td>434.0</td>\n      <td>135.0</td>\n      <td>201.0</td>\n      <td>39.0</td>\n      <td>55.0</td>\n      <td>160.0</td>\n      <td>1.0</td>\n    </tr>\n    <tr>\n      <th>4</th>\n      <td>62f98647a101fb33dedd2c27</td>\n      <td>5</td>\n      <td>0</td>\n      <td>49.95</td>\n      <td>5</td>\n      <td>standard</td>\n      <td>appstore1</td>\n      <td>1975-11-18</td>\n      <td>KR</td>\n      <td>21.0</td>\n      <td>46.0</td>\n      <td>66.0</td>\n      <td>54.0</td>\n      <td>8.0</td>\n      <td>3.0</td>\n      <td>16.0</td>\n      <td>2.0</td>\n    </tr>\n  </tbody>\n</table>\n</div>"
     },
     "execution_count": 94,
     "metadata": {},
     "output_type": "execute_result"
    }
   ],
   "source": [
    "# load dataset\n",
    "df = pd.DataFrame(list(account_store_collection.find()))\n",
    "\n",
    "# rows and columns of the data\n",
    "print(df.shape)\n",
    "\n",
    "# visualise the dataset\n",
    "df.head()"
   ],
   "metadata": {
    "collapsed": false,
    "pycharm": {
     "name": "#%%\n"
    }
   }
  },
  {
   "cell_type": "code",
   "execution_count": 95,
   "outputs": [
    {
     "data": {
      "text/plain": "((11712, 16), (2929, 16))"
     },
     "execution_count": 95,
     "metadata": {},
     "output_type": "execute_result"
    }
   ],
   "source": [
    "X_train,X_test,y_train,y_test = train_test_split(df.drop(['churn'],axis=1),\n",
    "                                                 df['churn'],\n",
    "                                                 test_size=0.2,\n",
    "                                                 random_state=0)\n",
    "\n",
    "\n",
    "X_train.shape, X_test.shape"
   ],
   "metadata": {
    "collapsed": false,
    "pycharm": {
     "name": "#%%\n"
    }
   }
  },
  {
   "cell_type": "code",
   "execution_count": 96,
   "outputs": [],
   "source": [
    "#CONFIGURATION\n",
    "NUM_FREQUENT_INPUTATIONS = [ 'post',\n",
    "                             'like',\n",
    "                             'adview',\n",
    "                             'message',\n",
    "                             'reply',\n",
    "                             'newfriend',\n",
    "                             'dislike',\n",
    "                             'unfriend']\n",
    "\n",
    "\n",
    "CATEGORICAL_INPTUTATIONS = ['country']\n",
    "\n",
    "NUM_VARS_TO_NORMALIZE = ['ltv',\n",
    "                         'post',\n",
    "                         'like',\n",
    "                         'adview',\n",
    "                         'message',\n",
    "                         'reply',\n",
    "                         'newfriend',\n",
    "                         'dislike',\n",
    "                         'unfriend',\n",
    "                         'idade']\n",
    "\n",
    "CAT_VARS_RARE_LABELS = ['channel',\n",
    "                        'country']\n",
    "\n",
    "CAT_VARS_ONE_HOT_ENCODER = ['channel',\n",
    "                        'country']\n",
    "\n",
    "\n",
    "DROP_FEATURES = ['_id',\n",
    "                 'account_id',\n",
    "                 'months',\n",
    "                 'product',\n",
    "                 'date_of_birth']\n",
    "\n"
   ],
   "metadata": {
    "collapsed": false,
    "pycharm": {
     "name": "#%%\n"
    }
   }
  },
  {
   "cell_type": "code",
   "execution_count": 97,
   "outputs": [],
   "source": [
    "under = RandomUnderSampler(sampling_strategy='majority')\n",
    "X_train, y_train = under.fit_resample(X_train, y_train)\n",
    "X_test, y_test = under.fit_resample(X_test, y_test)"
   ],
   "metadata": {
    "collapsed": false,
    "pycharm": {
     "name": "#%%\n"
    }
   }
  },
  {
   "cell_type": "code",
   "execution_count": 98,
   "outputs": [],
   "source": [
    "class_pipe = Pipeline([\n",
    "\n",
    "    #======== drop features ===========\n",
    "    ('drop_features', DropFeatures(DROP_FEATURES)),\n",
    "\n",
    "    #======== input missing values =======\n",
    "    ('missing_imputation', MeanMedianImputer(\n",
    "        imputation_method='median', variables=NUM_FREQUENT_INPUTATIONS)),\n",
    "\n",
    "    ('categorical_imputation', CategoricalImputer(\n",
    "        imputation_method='frequent', variables=CATEGORICAL_INPTUTATIONS)),\n",
    "\n",
    "    #========= RareLabelEncoder =========\n",
    "    ('rare_label_encoder', RareLabelEncoder(\n",
    "        variables=CAT_VARS_RARE_LABELS, tol=0.05, n_categories=10)),\n",
    "\n",
    "    #========= OneHotEncoder =========\n",
    "    ('one_hot_encoder', OneHotEncoder(variables=CAT_VARS_ONE_HOT_ENCODER,drop_last=False, top_categories=6)),\n",
    "\n",
    "\n",
    "\n",
    "    #========= MinMaxScaler  =========\n",
    "    ('min_max', MinMaxScaler(feature_range=(0,1))),\n",
    "\n",
    "\n",
    "    #========= XGBClassifier =========\n",
    "    ('xgb', XGBClassifier(n_estimators=100,\n",
    "                          learning_rate=0.1,\n",
    "                          max_depth=3,\n",
    "                          min_child_weight=1,\n",
    "                          gamma=1,\n",
    "                          subsample=0.8,\n",
    "                          colsample_bytree=0.6,\n",
    "                          objective='binary:logistic',\n",
    "                          nthread=4,\n",
    "                          scale_pos_weight=1,\n",
    "                          seed=27))\n",
    "\n",
    "])"
   ],
   "metadata": {
    "collapsed": false,
    "pycharm": {
     "name": "#%%\n"
    }
   }
  },
  {
   "cell_type": "code",
   "execution_count": 99,
   "outputs": [
    {
     "data": {
      "text/plain": "Pipeline(steps=[('drop_features',\n                 DropFeatures(features_to_drop=['_id', 'account_id', 'months',\n                                                'product', 'date_of_birth'])),\n                ('missing_imputation',\n                 MeanMedianImputer(variables=['post', 'like', 'adview',\n                                              'message', 'reply', 'newfriend',\n                                              'dislike', 'unfriend'])),\n                ('categorical_imputation',\n                 CategoricalImputer(imputation_method='frequent',\n                                    variables=['country'])),\n                ('r...\n                               enable_categorical=False, eval_metric=None,\n                               gamma=1, gpu_id=-1, grow_policy='depthwise',\n                               importance_type=None, interaction_constraints='',\n                               learning_rate=0.1, max_bin=256,\n                               max_cat_to_onehot=4, max_delta_step=0,\n                               max_depth=3, max_leaves=0, min_child_weight=1,\n                               missing=nan, monotone_constraints='()',\n                               n_estimators=100, n_jobs=4, nthread=4,\n                               num_parallel_tree=1, predictor='auto',\n                               random_state=27, reg_alpha=0, ...))])",
      "text/html": "<style>#sk-container-id-3 {color: black;background-color: white;}#sk-container-id-3 pre{padding: 0;}#sk-container-id-3 div.sk-toggleable {background-color: white;}#sk-container-id-3 label.sk-toggleable__label {cursor: pointer;display: block;width: 100%;margin-bottom: 0;padding: 0.3em;box-sizing: border-box;text-align: center;}#sk-container-id-3 label.sk-toggleable__label-arrow:before {content: \"▸\";float: left;margin-right: 0.25em;color: #696969;}#sk-container-id-3 label.sk-toggleable__label-arrow:hover:before {color: black;}#sk-container-id-3 div.sk-estimator:hover label.sk-toggleable__label-arrow:before {color: black;}#sk-container-id-3 div.sk-toggleable__content {max-height: 0;max-width: 0;overflow: hidden;text-align: left;background-color: #f0f8ff;}#sk-container-id-3 div.sk-toggleable__content pre {margin: 0.2em;color: black;border-radius: 0.25em;background-color: #f0f8ff;}#sk-container-id-3 input.sk-toggleable__control:checked~div.sk-toggleable__content {max-height: 200px;max-width: 100%;overflow: auto;}#sk-container-id-3 input.sk-toggleable__control:checked~label.sk-toggleable__label-arrow:before {content: \"▾\";}#sk-container-id-3 div.sk-estimator input.sk-toggleable__control:checked~label.sk-toggleable__label {background-color: #d4ebff;}#sk-container-id-3 div.sk-label input.sk-toggleable__control:checked~label.sk-toggleable__label {background-color: #d4ebff;}#sk-container-id-3 input.sk-hidden--visually {border: 0;clip: rect(1px 1px 1px 1px);clip: rect(1px, 1px, 1px, 1px);height: 1px;margin: -1px;overflow: hidden;padding: 0;position: absolute;width: 1px;}#sk-container-id-3 div.sk-estimator {font-family: monospace;background-color: #f0f8ff;border: 1px dotted black;border-radius: 0.25em;box-sizing: border-box;margin-bottom: 0.5em;}#sk-container-id-3 div.sk-estimator:hover {background-color: #d4ebff;}#sk-container-id-3 div.sk-parallel-item::after {content: \"\";width: 100%;border-bottom: 1px solid gray;flex-grow: 1;}#sk-container-id-3 div.sk-label:hover label.sk-toggleable__label {background-color: #d4ebff;}#sk-container-id-3 div.sk-serial::before {content: \"\";position: absolute;border-left: 1px solid gray;box-sizing: border-box;top: 0;bottom: 0;left: 50%;z-index: 0;}#sk-container-id-3 div.sk-serial {display: flex;flex-direction: column;align-items: center;background-color: white;padding-right: 0.2em;padding-left: 0.2em;position: relative;}#sk-container-id-3 div.sk-item {position: relative;z-index: 1;}#sk-container-id-3 div.sk-parallel {display: flex;align-items: stretch;justify-content: center;background-color: white;position: relative;}#sk-container-id-3 div.sk-item::before, #sk-container-id-3 div.sk-parallel-item::before {content: \"\";position: absolute;border-left: 1px solid gray;box-sizing: border-box;top: 0;bottom: 0;left: 50%;z-index: -1;}#sk-container-id-3 div.sk-parallel-item {display: flex;flex-direction: column;z-index: 1;position: relative;background-color: white;}#sk-container-id-3 div.sk-parallel-item:first-child::after {align-self: flex-end;width: 50%;}#sk-container-id-3 div.sk-parallel-item:last-child::after {align-self: flex-start;width: 50%;}#sk-container-id-3 div.sk-parallel-item:only-child::after {width: 0;}#sk-container-id-3 div.sk-dashed-wrapped {border: 1px dashed gray;margin: 0 0.4em 0.5em 0.4em;box-sizing: border-box;padding-bottom: 0.4em;background-color: white;}#sk-container-id-3 div.sk-label label {font-family: monospace;font-weight: bold;display: inline-block;line-height: 1.2em;}#sk-container-id-3 div.sk-label-container {text-align: center;}#sk-container-id-3 div.sk-container {/* jupyter's `normalize.less` sets `[hidden] { display: none; }` but bootstrap.min.css set `[hidden] { display: none !important; }` so we also need the `!important` here to be able to override the default hidden behavior on the sphinx rendered scikit-learn.org. See: https://github.com/scikit-learn/scikit-learn/issues/21755 */display: inline-block !important;position: relative;}#sk-container-id-3 div.sk-text-repr-fallback {display: none;}</style><div id=\"sk-container-id-3\" class=\"sk-top-container\"><div class=\"sk-text-repr-fallback\"><pre>Pipeline(steps=[(&#x27;drop_features&#x27;,\n                 DropFeatures(features_to_drop=[&#x27;_id&#x27;, &#x27;account_id&#x27;, &#x27;months&#x27;,\n                                                &#x27;product&#x27;, &#x27;date_of_birth&#x27;])),\n                (&#x27;missing_imputation&#x27;,\n                 MeanMedianImputer(variables=[&#x27;post&#x27;, &#x27;like&#x27;, &#x27;adview&#x27;,\n                                              &#x27;message&#x27;, &#x27;reply&#x27;, &#x27;newfriend&#x27;,\n                                              &#x27;dislike&#x27;, &#x27;unfriend&#x27;])),\n                (&#x27;categorical_imputation&#x27;,\n                 CategoricalImputer(imputation_method=&#x27;frequent&#x27;,\n                                    variables=[&#x27;country&#x27;])),\n                (&#x27;r...\n                               enable_categorical=False, eval_metric=None,\n                               gamma=1, gpu_id=-1, grow_policy=&#x27;depthwise&#x27;,\n                               importance_type=None, interaction_constraints=&#x27;&#x27;,\n                               learning_rate=0.1, max_bin=256,\n                               max_cat_to_onehot=4, max_delta_step=0,\n                               max_depth=3, max_leaves=0, min_child_weight=1,\n                               missing=nan, monotone_constraints=&#x27;()&#x27;,\n                               n_estimators=100, n_jobs=4, nthread=4,\n                               num_parallel_tree=1, predictor=&#x27;auto&#x27;,\n                               random_state=27, reg_alpha=0, ...))])</pre><b>In a Jupyter environment, please rerun this cell to show the HTML representation or trust the notebook. <br />On GitHub, the HTML representation is unable to render, please try loading this page with nbviewer.org.</b></div><div class=\"sk-container\" hidden><div class=\"sk-item sk-dashed-wrapped\"><div class=\"sk-label-container\"><div class=\"sk-label sk-toggleable\"><input class=\"sk-toggleable__control sk-hidden--visually\" id=\"sk-estimator-id-17\" type=\"checkbox\" ><label for=\"sk-estimator-id-17\" class=\"sk-toggleable__label sk-toggleable__label-arrow\">Pipeline</label><div class=\"sk-toggleable__content\"><pre>Pipeline(steps=[(&#x27;drop_features&#x27;,\n                 DropFeatures(features_to_drop=[&#x27;_id&#x27;, &#x27;account_id&#x27;, &#x27;months&#x27;,\n                                                &#x27;product&#x27;, &#x27;date_of_birth&#x27;])),\n                (&#x27;missing_imputation&#x27;,\n                 MeanMedianImputer(variables=[&#x27;post&#x27;, &#x27;like&#x27;, &#x27;adview&#x27;,\n                                              &#x27;message&#x27;, &#x27;reply&#x27;, &#x27;newfriend&#x27;,\n                                              &#x27;dislike&#x27;, &#x27;unfriend&#x27;])),\n                (&#x27;categorical_imputation&#x27;,\n                 CategoricalImputer(imputation_method=&#x27;frequent&#x27;,\n                                    variables=[&#x27;country&#x27;])),\n                (&#x27;r...\n                               enable_categorical=False, eval_metric=None,\n                               gamma=1, gpu_id=-1, grow_policy=&#x27;depthwise&#x27;,\n                               importance_type=None, interaction_constraints=&#x27;&#x27;,\n                               learning_rate=0.1, max_bin=256,\n                               max_cat_to_onehot=4, max_delta_step=0,\n                               max_depth=3, max_leaves=0, min_child_weight=1,\n                               missing=nan, monotone_constraints=&#x27;()&#x27;,\n                               n_estimators=100, n_jobs=4, nthread=4,\n                               num_parallel_tree=1, predictor=&#x27;auto&#x27;,\n                               random_state=27, reg_alpha=0, ...))])</pre></div></div></div><div class=\"sk-serial\"><div class=\"sk-item\"><div class=\"sk-estimator sk-toggleable\"><input class=\"sk-toggleable__control sk-hidden--visually\" id=\"sk-estimator-id-18\" type=\"checkbox\" ><label for=\"sk-estimator-id-18\" class=\"sk-toggleable__label sk-toggleable__label-arrow\">DropFeatures</label><div class=\"sk-toggleable__content\"><pre>DropFeatures(features_to_drop=[&#x27;_id&#x27;, &#x27;account_id&#x27;, &#x27;months&#x27;, &#x27;product&#x27;,\n                               &#x27;date_of_birth&#x27;])</pre></div></div></div><div class=\"sk-item\"><div class=\"sk-estimator sk-toggleable\"><input class=\"sk-toggleable__control sk-hidden--visually\" id=\"sk-estimator-id-19\" type=\"checkbox\" ><label for=\"sk-estimator-id-19\" class=\"sk-toggleable__label sk-toggleable__label-arrow\">MeanMedianImputer</label><div class=\"sk-toggleable__content\"><pre>MeanMedianImputer(variables=[&#x27;post&#x27;, &#x27;like&#x27;, &#x27;adview&#x27;, &#x27;message&#x27;, &#x27;reply&#x27;,\n                             &#x27;newfriend&#x27;, &#x27;dislike&#x27;, &#x27;unfriend&#x27;])</pre></div></div></div><div class=\"sk-item\"><div class=\"sk-estimator sk-toggleable\"><input class=\"sk-toggleable__control sk-hidden--visually\" id=\"sk-estimator-id-20\" type=\"checkbox\" ><label for=\"sk-estimator-id-20\" class=\"sk-toggleable__label sk-toggleable__label-arrow\">CategoricalImputer</label><div class=\"sk-toggleable__content\"><pre>CategoricalImputer(imputation_method=&#x27;frequent&#x27;, variables=[&#x27;country&#x27;])</pre></div></div></div><div class=\"sk-item\"><div class=\"sk-estimator sk-toggleable\"><input class=\"sk-toggleable__control sk-hidden--visually\" id=\"sk-estimator-id-21\" type=\"checkbox\" ><label for=\"sk-estimator-id-21\" class=\"sk-toggleable__label sk-toggleable__label-arrow\">RareLabelEncoder</label><div class=\"sk-toggleable__content\"><pre>RareLabelEncoder(variables=[&#x27;channel&#x27;, &#x27;country&#x27;])</pre></div></div></div><div class=\"sk-item\"><div class=\"sk-estimator sk-toggleable\"><input class=\"sk-toggleable__control sk-hidden--visually\" id=\"sk-estimator-id-22\" type=\"checkbox\" ><label for=\"sk-estimator-id-22\" class=\"sk-toggleable__label sk-toggleable__label-arrow\">OneHotEncoder</label><div class=\"sk-toggleable__content\"><pre>OneHotEncoder(top_categories=6, variables=[&#x27;channel&#x27;, &#x27;country&#x27;])</pre></div></div></div><div class=\"sk-item\"><div class=\"sk-estimator sk-toggleable\"><input class=\"sk-toggleable__control sk-hidden--visually\" id=\"sk-estimator-id-23\" type=\"checkbox\" ><label for=\"sk-estimator-id-23\" class=\"sk-toggleable__label sk-toggleable__label-arrow\">MinMaxScaler</label><div class=\"sk-toggleable__content\"><pre>MinMaxScaler()</pre></div></div></div><div class=\"sk-item\"><div class=\"sk-estimator sk-toggleable\"><input class=\"sk-toggleable__control sk-hidden--visually\" id=\"sk-estimator-id-24\" type=\"checkbox\" ><label for=\"sk-estimator-id-24\" class=\"sk-toggleable__label sk-toggleable__label-arrow\">XGBClassifier</label><div class=\"sk-toggleable__content\"><pre>XGBClassifier(base_score=0.5, booster=&#x27;gbtree&#x27;, callbacks=None,\n              colsample_bylevel=1, colsample_bynode=1, colsample_bytree=0.6,\n              early_stopping_rounds=None, enable_categorical=False,\n              eval_metric=None, gamma=1, gpu_id=-1, grow_policy=&#x27;depthwise&#x27;,\n              importance_type=None, interaction_constraints=&#x27;&#x27;,\n              learning_rate=0.1, max_bin=256, max_cat_to_onehot=4,\n              max_delta_step=0, max_depth=3, max_leaves=0, min_child_weight=1,\n              missing=nan, monotone_constraints=&#x27;()&#x27;, n_estimators=100,\n              n_jobs=4, nthread=4, num_parallel_tree=1, predictor=&#x27;auto&#x27;,\n              random_state=27, reg_alpha=0, ...)</pre></div></div></div></div></div></div></div>"
     },
     "execution_count": 99,
     "metadata": {},
     "output_type": "execute_result"
    }
   ],
   "source": [
    "class_pipe.fit(X_train, y_train)"
   ],
   "metadata": {
    "collapsed": false,
    "pycharm": {
     "name": "#%%\n"
    }
   }
  },
  {
   "cell_type": "code",
   "execution_count": 100,
   "outputs": [],
   "source": [
    "y_test_pred = class_pipe.predict(X_test)\n"
   ],
   "metadata": {
    "collapsed": false,
    "pycharm": {
     "name": "#%%\n"
    }
   }
  },
  {
   "cell_type": "code",
   "execution_count": 101,
   "outputs": [
    {
     "name": "stdout",
     "output_type": "stream",
     "text": [
      "[[344 132]\n",
      " [ 25 451]]\n"
     ]
    }
   ],
   "source": [
    "print(confusion_matrix(y_test,y_test_pred))\n"
   ],
   "metadata": {
    "collapsed": false,
    "pycharm": {
     "name": "#%%\n"
    }
   }
  },
  {
   "cell_type": "code",
   "execution_count": 102,
   "outputs": [
    {
     "name": "stdout",
     "output_type": "stream",
     "text": [
      "Accuracy:  0.8350840336134454\n",
      "ROC AUC:  0.8350840336134453\n",
      "Recall:  0.9474789915966386\n",
      "Precision:  0.7735849056603774\n",
      "F1:  0.8517469310670444\n"
     ]
    }
   ],
   "source": [
    "print('Accuracy: ', accuracy_score(y_test,y_test_pred))\n",
    "print('ROC AUC: ', roc_auc_score(y_test,y_test_pred))\n",
    "print('Recall: ', recall_score(y_test,y_test_pred))\n",
    "print('Precision: ', precision_score(y_test,y_test_pred))\n",
    "print('F1: ', f1_score(y_test,y_test_pred))"
   ],
   "metadata": {
    "collapsed": false,
    "pycharm": {
     "name": "#%%\n"
    }
   }
  },
  {
   "cell_type": "code",
   "execution_count": 103,
   "outputs": [
    {
     "data": {
      "text/plain": "['../model/class_pipe.pkl']"
     },
     "execution_count": 103,
     "metadata": {},
     "output_type": "execute_result"
    }
   ],
   "source": [
    "import joblib\n",
    "\n",
    "joblib.dump(class_pipe, '../model/class_pipe.pkl')"
   ],
   "metadata": {
    "collapsed": false,
    "pycharm": {
     "name": "#%%\n"
    }
   }
  },
  {
   "cell_type": "code",
   "execution_count": 105,
   "outputs": [],
   "source": [
    "df.to_csv('../output/class_pipe.csv')"
   ],
   "metadata": {
    "collapsed": false,
    "pycharm": {
     "name": "#%%\n"
    }
   }
  },
  {
   "cell_type": "code",
   "execution_count": 103,
   "outputs": [],
   "source": [],
   "metadata": {
    "collapsed": false,
    "pycharm": {
     "name": "#%%\n"
    }
   }
  }
 ],
 "metadata": {
  "kernelspec": {
   "display_name": "Python 3",
   "language": "python",
   "name": "python3"
  },
  "language_info": {
   "codemirror_mode": {
    "name": "ipython",
    "version": 2
   },
   "file_extension": ".py",
   "mimetype": "text/x-python",
   "name": "python",
   "nbconvert_exporter": "python",
   "pygments_lexer": "ipython2",
   "version": "2.7.6"
  }
 },
 "nbformat": 4,
 "nbformat_minor": 0
}