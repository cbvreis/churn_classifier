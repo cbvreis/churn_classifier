{
 "cells": [
  {
   "cell_type": "code",
   "execution_count": 52,
   "metadata": {
    "collapsed": true,
    "pycharm": {
     "name": "#%%\n"
    }
   },
   "outputs": [],
   "source": [
    "#Import libraries\n",
    "import numpy as np\n",
    "import pandas as pd\n",
    "\n",
    "#For plotting\n",
    "import seaborn as sns\n",
    "import matplotlib.pyplot as plt\n",
    "\n",
    "# set warnings to ignore\n",
    "import warnings\n",
    "warnings.filterwarnings('ignore')\n",
    "\n",
    "#tqdm\n",
    "from tqdm import tqdm\n",
    "tqdm.pandas()\n",
    "\n",
    "#Mongodb\n",
    "import pdmongo as pdm\n",
    "from helpers import MongoDAO\n"
   ]
  },
  {
   "cell_type": "markdown",
   "source": [
    "# Connect to the database\n"
   ],
   "metadata": {
    "collapsed": false,
    "pycharm": {
     "name": "#%% md\n"
    }
   }
  },
  {
   "cell_type": "code",
   "execution_count": 53,
   "outputs": [],
   "source": [
    "df_sub = pd.read_csv('../datasets/Dataset do Case de Analista_Cientista de Dados/subscription.csv')\n"
   ],
   "metadata": {
    "collapsed": false,
    "pycharm": {
     "name": "#%%\n"
    }
   }
  },
  {
   "cell_type": "code",
   "execution_count": 54,
   "outputs": [],
   "source": [
    "df_sub['account_id'] = df_sub['account_id'].astype(str)"
   ],
   "metadata": {
    "collapsed": false,
    "pycharm": {
     "name": "#%%\n"
    }
   }
  },
  {
   "cell_type": "code",
   "execution_count": 55,
   "outputs": [],
   "source": [
    "df_sub['start_date'] = pd.to_datetime(df_sub.start_date)\n",
    "df_sub['end_date'] = pd.to_datetime(df_sub.end_date)"
   ],
   "metadata": {
    "collapsed": false,
    "pycharm": {
     "name": "#%%\n"
    }
   }
  },
  {
   "cell_type": "code",
   "execution_count": 56,
   "outputs": [],
   "source": [
    "df_sub['month_year'] = df_sub.start_date.dt.to_period('M').apply(str)\n"
   ],
   "metadata": {
    "collapsed": false,
    "pycharm": {
     "name": "#%%\n"
    }
   }
  },
  {
   "cell_type": "code",
   "execution_count": 57,
   "outputs": [
    {
     "data": {
      "text/plain": "   id account_id   product start_date   end_date   mrr month_year\n0   0          1  standard 2020-01-06 2020-02-06  9.99    2020-01\n1   1          1  standard 2020-02-06 2020-03-06  9.99    2020-02\n2   2          1  standard 2020-03-06 2020-04-06  9.99    2020-03\n3   3          1  standard 2020-04-06 2020-05-06  9.99    2020-04\n4   4          1  standard 2020-05-06 2020-06-06  9.99    2020-05",
      "text/html": "<div>\n<style scoped>\n    .dataframe tbody tr th:only-of-type {\n        vertical-align: middle;\n    }\n\n    .dataframe tbody tr th {\n        vertical-align: top;\n    }\n\n    .dataframe thead th {\n        text-align: right;\n    }\n</style>\n<table border=\"1\" class=\"dataframe\">\n  <thead>\n    <tr style=\"text-align: right;\">\n      <th></th>\n      <th>id</th>\n      <th>account_id</th>\n      <th>product</th>\n      <th>start_date</th>\n      <th>end_date</th>\n      <th>mrr</th>\n      <th>month_year</th>\n    </tr>\n  </thead>\n  <tbody>\n    <tr>\n      <th>0</th>\n      <td>0</td>\n      <td>1</td>\n      <td>standard</td>\n      <td>2020-01-06</td>\n      <td>2020-02-06</td>\n      <td>9.99</td>\n      <td>2020-01</td>\n    </tr>\n    <tr>\n      <th>1</th>\n      <td>1</td>\n      <td>1</td>\n      <td>standard</td>\n      <td>2020-02-06</td>\n      <td>2020-03-06</td>\n      <td>9.99</td>\n      <td>2020-02</td>\n    </tr>\n    <tr>\n      <th>2</th>\n      <td>2</td>\n      <td>1</td>\n      <td>standard</td>\n      <td>2020-03-06</td>\n      <td>2020-04-06</td>\n      <td>9.99</td>\n      <td>2020-03</td>\n    </tr>\n    <tr>\n      <th>3</th>\n      <td>3</td>\n      <td>1</td>\n      <td>standard</td>\n      <td>2020-04-06</td>\n      <td>2020-05-06</td>\n      <td>9.99</td>\n      <td>2020-04</td>\n    </tr>\n    <tr>\n      <th>4</th>\n      <td>4</td>\n      <td>1</td>\n      <td>standard</td>\n      <td>2020-05-06</td>\n      <td>2020-06-06</td>\n      <td>9.99</td>\n      <td>2020-05</td>\n    </tr>\n  </tbody>\n</table>\n</div>"
     },
     "execution_count": 57,
     "metadata": {},
     "output_type": "execute_result"
    }
   ],
   "source": [
    "df_sub.head()"
   ],
   "metadata": {
    "collapsed": false,
    "pycharm": {
     "name": "#%%\n"
    }
   }
  },
  {
   "cell_type": "code",
   "execution_count": 58,
   "outputs": [
    {
     "name": "stderr",
     "output_type": "stream",
     "text": [
      "100%|███████████████████████████████████████████████████████████████████████████████████████████████████████████████████████████████████████████████████████████████████████████████████████████████████████████████████████████████████████████████████████████████████████████| 14641/14641 [00:50<00:00, 291.05it/s]\n"
     ]
    }
   ],
   "source": [
    "month = '2020-05'\n",
    "accounts = df_sub.account_id.unique().tolist()\n",
    "arr_churn_accounts = []\n",
    "\n",
    "for account in tqdm(accounts):\n",
    "    df_sub_account = df_sub[df_sub.account_id == account]\n",
    "    if len(df_sub_account[df_sub_account.month_year == month]) == 0:\n",
    "        arr_churn_accounts.append(account)\n"
   ],
   "metadata": {
    "collapsed": false,
    "pycharm": {
     "name": "#%%\n"
    }
   }
  },
  {
   "cell_type": "code",
   "execution_count": 59,
   "outputs": [
    {
     "data": {
      "text/plain": "['14', '15', '16', '26', '29']"
     },
     "execution_count": 59,
     "metadata": {},
     "output_type": "execute_result"
    }
   ],
   "source": [
    "arr_churn_accounts[:5]"
   ],
   "metadata": {
    "collapsed": false,
    "pycharm": {
     "name": "#%%\n"
    }
   }
  },
  {
   "cell_type": "code",
   "execution_count": 60,
   "outputs": [
    {
     "data": {
      "text/plain": "    id account_id   product start_date   end_date   mrr month_year\n65  66         14  standard 2020-01-21 2020-02-21  9.99    2020-01\n66  67         14  standard 2020-02-21 2020-03-21  9.99    2020-02\n67  68         14  standard 2020-03-21 2020-04-21  9.99    2020-03\n68  69         14  standard 2020-04-21 2020-05-21  9.99    2020-04",
      "text/html": "<div>\n<style scoped>\n    .dataframe tbody tr th:only-of-type {\n        vertical-align: middle;\n    }\n\n    .dataframe tbody tr th {\n        vertical-align: top;\n    }\n\n    .dataframe thead th {\n        text-align: right;\n    }\n</style>\n<table border=\"1\" class=\"dataframe\">\n  <thead>\n    <tr style=\"text-align: right;\">\n      <th></th>\n      <th>id</th>\n      <th>account_id</th>\n      <th>product</th>\n      <th>start_date</th>\n      <th>end_date</th>\n      <th>mrr</th>\n      <th>month_year</th>\n    </tr>\n  </thead>\n  <tbody>\n    <tr>\n      <th>65</th>\n      <td>66</td>\n      <td>14</td>\n      <td>standard</td>\n      <td>2020-01-21</td>\n      <td>2020-02-21</td>\n      <td>9.99</td>\n      <td>2020-01</td>\n    </tr>\n    <tr>\n      <th>66</th>\n      <td>67</td>\n      <td>14</td>\n      <td>standard</td>\n      <td>2020-02-21</td>\n      <td>2020-03-21</td>\n      <td>9.99</td>\n      <td>2020-02</td>\n    </tr>\n    <tr>\n      <th>67</th>\n      <td>68</td>\n      <td>14</td>\n      <td>standard</td>\n      <td>2020-03-21</td>\n      <td>2020-04-21</td>\n      <td>9.99</td>\n      <td>2020-03</td>\n    </tr>\n    <tr>\n      <th>68</th>\n      <td>69</td>\n      <td>14</td>\n      <td>standard</td>\n      <td>2020-04-21</td>\n      <td>2020-05-21</td>\n      <td>9.99</td>\n      <td>2020-04</td>\n    </tr>\n  </tbody>\n</table>\n</div>"
     },
     "execution_count": 60,
     "metadata": {},
     "output_type": "execute_result"
    }
   ],
   "source": [
    "df_sub[df_sub.account_id=='14']"
   ],
   "metadata": {
    "collapsed": false,
    "pycharm": {
     "name": "#%%\n"
    }
   }
  },
  {
   "cell_type": "markdown",
   "source": [
    "### Creating feature store"
   ],
   "metadata": {
    "collapsed": false,
    "pycharm": {
     "name": "#%% md\n"
    }
   }
  },
  {
   "cell_type": "code",
   "execution_count": 61,
   "outputs": [],
   "source": [
    "df = pd.DataFrame(columns=['account_id'])"
   ],
   "metadata": {
    "collapsed": false,
    "pycharm": {
     "name": "#%%\n"
    }
   }
  },
  {
   "cell_type": "code",
   "execution_count": 62,
   "outputs": [],
   "source": [
    "df['account_id'] = df_sub.account_id.unique()"
   ],
   "metadata": {
    "collapsed": false,
    "pycharm": {
     "name": "#%%\n"
    }
   }
  },
  {
   "cell_type": "code",
   "execution_count": 63,
   "outputs": [],
   "source": [
    "df['churn'] = df.account_id.apply(lambda x: 1 if x in arr_churn_accounts else 0)"
   ],
   "metadata": {
    "collapsed": false,
    "pycharm": {
     "name": "#%%\n"
    }
   }
  },
  {
   "cell_type": "code",
   "execution_count": 64,
   "outputs": [
    {
     "data": {
      "text/plain": "0    12386\n1     2255\nName: churn, dtype: int64"
     },
     "execution_count": 64,
     "metadata": {},
     "output_type": "execute_result"
    }
   ],
   "source": [
    "df.churn.value_counts()"
   ],
   "metadata": {
    "collapsed": false,
    "pycharm": {
     "name": "#%%\n"
    }
   }
  },
  {
   "cell_type": "code",
   "execution_count": 65,
   "outputs": [],
   "source": [
    "def get_ltv(account_id, df_sub):\n",
    "    '''\n",
    "    Returns the lifetime value of an account and number of months\n",
    "    '''\n",
    "    df = df_sub.copy()\n",
    "    df = df[df.account_id == account_id]\n",
    "    sum = df['mrr'].sum()\n",
    "    months = df.shape[0]\n",
    "    return sum, months\n"
   ],
   "metadata": {
    "collapsed": false,
    "pycharm": {
     "name": "#%%\n"
    }
   }
  },
  {
   "cell_type": "code",
   "execution_count": 66,
   "outputs": [],
   "source": [
    "df['ltv'], df['months'] = zip(*df.account_id.apply(lambda x: get_ltv(x, df_sub)))"
   ],
   "metadata": {
    "collapsed": false,
    "pycharm": {
     "name": "#%%\n"
    }
   }
  },
  {
   "cell_type": "code",
   "execution_count": 67,
   "outputs": [
    {
     "data": {
      "text/plain": "  account_id  churn    ltv  months\n0          1      0  49.95       5\n1          2      0  49.95       5\n2          3      0  49.95       5\n3          4      0  49.95       5\n4          5      0  49.95       5\n5          6      0  49.95       5\n6          7      0  49.95       5\n7          8      0  49.95       5\n8          9      0  49.95       5\n9         10      0  49.95       5",
      "text/html": "<div>\n<style scoped>\n    .dataframe tbody tr th:only-of-type {\n        vertical-align: middle;\n    }\n\n    .dataframe tbody tr th {\n        vertical-align: top;\n    }\n\n    .dataframe thead th {\n        text-align: right;\n    }\n</style>\n<table border=\"1\" class=\"dataframe\">\n  <thead>\n    <tr style=\"text-align: right;\">\n      <th></th>\n      <th>account_id</th>\n      <th>churn</th>\n      <th>ltv</th>\n      <th>months</th>\n    </tr>\n  </thead>\n  <tbody>\n    <tr>\n      <th>0</th>\n      <td>1</td>\n      <td>0</td>\n      <td>49.95</td>\n      <td>5</td>\n    </tr>\n    <tr>\n      <th>1</th>\n      <td>2</td>\n      <td>0</td>\n      <td>49.95</td>\n      <td>5</td>\n    </tr>\n    <tr>\n      <th>2</th>\n      <td>3</td>\n      <td>0</td>\n      <td>49.95</td>\n      <td>5</td>\n    </tr>\n    <tr>\n      <th>3</th>\n      <td>4</td>\n      <td>0</td>\n      <td>49.95</td>\n      <td>5</td>\n    </tr>\n    <tr>\n      <th>4</th>\n      <td>5</td>\n      <td>0</td>\n      <td>49.95</td>\n      <td>5</td>\n    </tr>\n    <tr>\n      <th>5</th>\n      <td>6</td>\n      <td>0</td>\n      <td>49.95</td>\n      <td>5</td>\n    </tr>\n    <tr>\n      <th>6</th>\n      <td>7</td>\n      <td>0</td>\n      <td>49.95</td>\n      <td>5</td>\n    </tr>\n    <tr>\n      <th>7</th>\n      <td>8</td>\n      <td>0</td>\n      <td>49.95</td>\n      <td>5</td>\n    </tr>\n    <tr>\n      <th>8</th>\n      <td>9</td>\n      <td>0</td>\n      <td>49.95</td>\n      <td>5</td>\n    </tr>\n    <tr>\n      <th>9</th>\n      <td>10</td>\n      <td>0</td>\n      <td>49.95</td>\n      <td>5</td>\n    </tr>\n  </tbody>\n</table>\n</div>"
     },
     "execution_count": 67,
     "metadata": {},
     "output_type": "execute_result"
    }
   ],
   "source": [
    "df.head(10)"
   ],
   "metadata": {
    "collapsed": false,
    "pycharm": {
     "name": "#%%\n"
    }
   }
  },
  {
   "cell_type": "code",
   "execution_count": 68,
   "outputs": [
    {
     "data": {
      "text/plain": "               columns          dtypes  nulls  nulls_percentage  unique\nid                  id           int64      0               0.0   55150\naccount_id  account_id          object      0               0.0   14641\nproduct        product          object      0               0.0       1\nstart_date  start_date  datetime64[ns]      0               0.0     152\nend_date      end_date  datetime64[ns]      0               0.0     148\nmrr                mrr         float64      0               0.0       1\nmonth_year  month_year          object      0               0.0       5",
      "text/html": "<div>\n<style scoped>\n    .dataframe tbody tr th:only-of-type {\n        vertical-align: middle;\n    }\n\n    .dataframe tbody tr th {\n        vertical-align: top;\n    }\n\n    .dataframe thead th {\n        text-align: right;\n    }\n</style>\n<table border=\"1\" class=\"dataframe\">\n  <thead>\n    <tr style=\"text-align: right;\">\n      <th></th>\n      <th>columns</th>\n      <th>dtypes</th>\n      <th>nulls</th>\n      <th>nulls_percentage</th>\n      <th>unique</th>\n    </tr>\n  </thead>\n  <tbody>\n    <tr>\n      <th>id</th>\n      <td>id</td>\n      <td>int64</td>\n      <td>0</td>\n      <td>0.0</td>\n      <td>55150</td>\n    </tr>\n    <tr>\n      <th>account_id</th>\n      <td>account_id</td>\n      <td>object</td>\n      <td>0</td>\n      <td>0.0</td>\n      <td>14641</td>\n    </tr>\n    <tr>\n      <th>product</th>\n      <td>product</td>\n      <td>object</td>\n      <td>0</td>\n      <td>0.0</td>\n      <td>1</td>\n    </tr>\n    <tr>\n      <th>start_date</th>\n      <td>start_date</td>\n      <td>datetime64[ns]</td>\n      <td>0</td>\n      <td>0.0</td>\n      <td>152</td>\n    </tr>\n    <tr>\n      <th>end_date</th>\n      <td>end_date</td>\n      <td>datetime64[ns]</td>\n      <td>0</td>\n      <td>0.0</td>\n      <td>148</td>\n    </tr>\n    <tr>\n      <th>mrr</th>\n      <td>mrr</td>\n      <td>float64</td>\n      <td>0</td>\n      <td>0.0</td>\n      <td>1</td>\n    </tr>\n    <tr>\n      <th>month_year</th>\n      <td>month_year</td>\n      <td>object</td>\n      <td>0</td>\n      <td>0.0</td>\n      <td>5</td>\n    </tr>\n  </tbody>\n</table>\n</div>"
     },
     "execution_count": 68,
     "metadata": {},
     "output_type": "execute_result"
    }
   ],
   "source": [
    "pd.DataFrame({\n",
    "    'columns' : df_sub.columns,\n",
    "    'dtypes' : df_sub.dtypes,\n",
    "    'nulls' : df_sub.isnull().sum(),\n",
    "    'nulls_percentage' : df_sub.isnull().sum()/df_sub.shape[0]*100,\n",
    "    'unique' : df_sub.nunique()\n",
    "})"
   ],
   "metadata": {
    "collapsed": false,
    "pycharm": {
     "name": "#%%\n"
    }
   }
  },
  {
   "cell_type": "code",
   "execution_count": 69,
   "outputs": [],
   "source": [
    "#Inserindo a coluna product _ cardinaldiade 1\n",
    "df['product'] = df_sub['product'].unique()[0]"
   ],
   "metadata": {
    "collapsed": false,
    "pycharm": {
     "name": "#%%\n"
    }
   }
  },
  {
   "cell_type": "markdown",
   "source": [
    "### Dados da tabela account"
   ],
   "metadata": {
    "collapsed": false,
    "pycharm": {
     "name": "#%% md\n"
    }
   }
  },
  {
   "cell_type": "code",
   "execution_count": 70,
   "outputs": [],
   "source": [
    "df_account = pd.read_csv('../datasets/Dataset do Case de Analista_Cientista de Dados/account.csv')"
   ],
   "metadata": {
    "collapsed": false,
    "pycharm": {
     "name": "#%%\n"
    }
   }
  },
  {
   "cell_type": "code",
   "execution_count": 71,
   "outputs": [
    {
     "data": {
      "text/plain": "   id    channel date_of_birth country\n0   1  appstore2    1948-09-10      CN\n1   2  appstore1    1952-11-06      AU\n2   3  appstore1    2002-11-10      GB\n3   4  appstore1    1976-06-18      US\n4   5  appstore1    1975-11-18      KR",
      "text/html": "<div>\n<style scoped>\n    .dataframe tbody tr th:only-of-type {\n        vertical-align: middle;\n    }\n\n    .dataframe tbody tr th {\n        vertical-align: top;\n    }\n\n    .dataframe thead th {\n        text-align: right;\n    }\n</style>\n<table border=\"1\" class=\"dataframe\">\n  <thead>\n    <tr style=\"text-align: right;\">\n      <th></th>\n      <th>id</th>\n      <th>channel</th>\n      <th>date_of_birth</th>\n      <th>country</th>\n    </tr>\n  </thead>\n  <tbody>\n    <tr>\n      <th>0</th>\n      <td>1</td>\n      <td>appstore2</td>\n      <td>1948-09-10</td>\n      <td>CN</td>\n    </tr>\n    <tr>\n      <th>1</th>\n      <td>2</td>\n      <td>appstore1</td>\n      <td>1952-11-06</td>\n      <td>AU</td>\n    </tr>\n    <tr>\n      <th>2</th>\n      <td>3</td>\n      <td>appstore1</td>\n      <td>2002-11-10</td>\n      <td>GB</td>\n    </tr>\n    <tr>\n      <th>3</th>\n      <td>4</td>\n      <td>appstore1</td>\n      <td>1976-06-18</td>\n      <td>US</td>\n    </tr>\n    <tr>\n      <th>4</th>\n      <td>5</td>\n      <td>appstore1</td>\n      <td>1975-11-18</td>\n      <td>KR</td>\n    </tr>\n  </tbody>\n</table>\n</div>"
     },
     "execution_count": 71,
     "metadata": {},
     "output_type": "execute_result"
    }
   ],
   "source": [
    "df_account.head()\n"
   ],
   "metadata": {
    "collapsed": false,
    "pycharm": {
     "name": "#%%\n"
    }
   }
  },
  {
   "cell_type": "code",
   "execution_count": 72,
   "outputs": [
    {
     "data": {
      "text/plain": "                     columns  dtypes  nulls  nulls_percentage  unique\nid                        id   int64      0          0.000000   14641\nchannel              channel  object      0          0.000000       3\ndate_of_birth  date_of_birth  object      0          0.000000   10995\ncountry              country  object   1611         11.003347      26",
      "text/html": "<div>\n<style scoped>\n    .dataframe tbody tr th:only-of-type {\n        vertical-align: middle;\n    }\n\n    .dataframe tbody tr th {\n        vertical-align: top;\n    }\n\n    .dataframe thead th {\n        text-align: right;\n    }\n</style>\n<table border=\"1\" class=\"dataframe\">\n  <thead>\n    <tr style=\"text-align: right;\">\n      <th></th>\n      <th>columns</th>\n      <th>dtypes</th>\n      <th>nulls</th>\n      <th>nulls_percentage</th>\n      <th>unique</th>\n    </tr>\n  </thead>\n  <tbody>\n    <tr>\n      <th>id</th>\n      <td>id</td>\n      <td>int64</td>\n      <td>0</td>\n      <td>0.000000</td>\n      <td>14641</td>\n    </tr>\n    <tr>\n      <th>channel</th>\n      <td>channel</td>\n      <td>object</td>\n      <td>0</td>\n      <td>0.000000</td>\n      <td>3</td>\n    </tr>\n    <tr>\n      <th>date_of_birth</th>\n      <td>date_of_birth</td>\n      <td>object</td>\n      <td>0</td>\n      <td>0.000000</td>\n      <td>10995</td>\n    </tr>\n    <tr>\n      <th>country</th>\n      <td>country</td>\n      <td>object</td>\n      <td>1611</td>\n      <td>11.003347</td>\n      <td>26</td>\n    </tr>\n  </tbody>\n</table>\n</div>"
     },
     "execution_count": 72,
     "metadata": {},
     "output_type": "execute_result"
    }
   ],
   "source": [
    "pd.DataFrame(\n",
    "    {\n",
    "        'columns' : df_account.columns,\n",
    "        'dtypes' : df_account.dtypes,\n",
    "        'nulls' : df_account.isnull().sum(),\n",
    "        'nulls_percentage' : df_account.isnull().sum()/df_account.shape[0]*100,\n",
    "        'unique' : df_account.nunique()\n",
    "    }\n",
    ")"
   ],
   "metadata": {
    "collapsed": false,
    "pycharm": {
     "name": "#%%\n"
    }
   }
  },
  {
   "cell_type": "code",
   "execution_count": 73,
   "outputs": [],
   "source": [
    "df_account['account_id'] = df_account.id.apply(str)"
   ],
   "metadata": {
    "collapsed": false,
    "pycharm": {
     "name": "#%%\n"
    }
   }
  },
  {
   "cell_type": "code",
   "execution_count": 74,
   "outputs": [],
   "source": [
    "df = pd.merge(df, df_account, on='account_id')"
   ],
   "metadata": {
    "collapsed": false,
    "pycharm": {
     "name": "#%%\n"
    }
   }
  },
  {
   "cell_type": "code",
   "execution_count": 75,
   "outputs": [],
   "source": [
    "df.drop(['id'], axis=1, inplace=True)"
   ],
   "metadata": {
    "collapsed": false,
    "pycharm": {
     "name": "#%%\n"
    }
   }
  },
  {
   "cell_type": "markdown",
   "source": [
    "### Dados da tabela evento"
   ],
   "metadata": {
    "collapsed": false,
    "pycharm": {
     "name": "#%% md\n"
    }
   }
  },
  {
   "cell_type": "code",
   "execution_count": 76,
   "outputs": [],
   "source": [
    "df_event = pd.read_csv('../datasets/Dataset do Case de Analista_Cientista de Dados/event.csv')"
   ],
   "metadata": {
    "collapsed": false,
    "pycharm": {
     "name": "#%%\n"
    }
   }
  },
  {
   "cell_type": "code",
   "execution_count": 77,
   "outputs": [],
   "source": [
    "df_event_type = pd.read_csv('../datasets/Dataset do Case de Analista_Cientista de Dados/event_type.csv')"
   ],
   "metadata": {
    "collapsed": false,
    "pycharm": {
     "name": "#%%\n"
    }
   }
  },
  {
   "cell_type": "code",
   "execution_count": 78,
   "outputs": [],
   "source": [
    "df_event = pd.merge(df_event, df_event_type, on='event_type_id')"
   ],
   "metadata": {
    "collapsed": false,
    "pycharm": {
     "name": "#%%\n"
    }
   }
  },
  {
   "cell_type": "code",
   "execution_count": 79,
   "outputs": [],
   "source": [
    "df_event.head()\n",
    "df_event['account_id'] = df_event.account_id.apply(str)\n",
    "df_event['event_type_id'] = df_event.event_type_id.apply(str)\n"
   ],
   "metadata": {
    "collapsed": false,
    "pycharm": {
     "name": "#%%\n"
    }
   }
  },
  {
   "cell_type": "code",
   "execution_count": 80,
   "outputs": [
    {
     "data": {
      "text/plain": "  account_id           event_time event_type_id event_type_name\n0          1  2020-01-06 03:20:00             0            post\n1          1  2020-01-06 00:55:29             0            post\n2          1  2020-01-07 04:08:23             0            post\n3          1  2020-01-07 08:45:06             0            post\n4          1  2020-01-07 05:50:52             0            post",
      "text/html": "<div>\n<style scoped>\n    .dataframe tbody tr th:only-of-type {\n        vertical-align: middle;\n    }\n\n    .dataframe tbody tr th {\n        vertical-align: top;\n    }\n\n    .dataframe thead th {\n        text-align: right;\n    }\n</style>\n<table border=\"1\" class=\"dataframe\">\n  <thead>\n    <tr style=\"text-align: right;\">\n      <th></th>\n      <th>account_id</th>\n      <th>event_time</th>\n      <th>event_type_id</th>\n      <th>event_type_name</th>\n    </tr>\n  </thead>\n  <tbody>\n    <tr>\n      <th>0</th>\n      <td>1</td>\n      <td>2020-01-06 03:20:00</td>\n      <td>0</td>\n      <td>post</td>\n    </tr>\n    <tr>\n      <th>1</th>\n      <td>1</td>\n      <td>2020-01-06 00:55:29</td>\n      <td>0</td>\n      <td>post</td>\n    </tr>\n    <tr>\n      <th>2</th>\n      <td>1</td>\n      <td>2020-01-07 04:08:23</td>\n      <td>0</td>\n      <td>post</td>\n    </tr>\n    <tr>\n      <th>3</th>\n      <td>1</td>\n      <td>2020-01-07 08:45:06</td>\n      <td>0</td>\n      <td>post</td>\n    </tr>\n    <tr>\n      <th>4</th>\n      <td>1</td>\n      <td>2020-01-07 05:50:52</td>\n      <td>0</td>\n      <td>post</td>\n    </tr>\n  </tbody>\n</table>\n</div>"
     },
     "execution_count": 80,
     "metadata": {},
     "output_type": "execute_result"
    }
   ],
   "source": [
    "df_event.head()"
   ],
   "metadata": {
    "collapsed": false,
    "pycharm": {
     "name": "#%%\n"
    }
   }
  },
  {
   "cell_type": "code",
   "execution_count": 81,
   "outputs": [
    {
     "data": {
      "text/plain": "array(['post', 'newfriend', 'like', 'adview', 'message', 'reply',\n       'dislike', 'unfriend'], dtype=object)"
     },
     "execution_count": 81,
     "metadata": {},
     "output_type": "execute_result"
    }
   ],
   "source": [
    "df_event.event_type_name.unique()"
   ],
   "metadata": {
    "collapsed": false,
    "pycharm": {
     "name": "#%%\n"
    }
   }
  },
  {
   "cell_type": "code",
   "execution_count": 82,
   "outputs": [],
   "source": [
    "def numero_de_eventos_por_tipo(account_id, df_event):\n",
    "    '''\n",
    "    Returns the number of events of an account by type\n",
    "    '''\n",
    "    df = df_event.copy()\n",
    "    df = df[df.account_id == account_id]\n",
    "    df = pd.DataFrame(df.event_type_name.value_counts()).reset_index().T\n",
    "    df.columns = df.iloc[0]\n",
    "    df.drop('index',axis=0,inplace=True)\n",
    "    df = df.reset_index()\n",
    "    df['account_id'] = account_id\n",
    "    return df"
   ],
   "metadata": {
    "collapsed": false,
    "pycharm": {
     "name": "#%%\n"
    }
   }
  },
  {
   "cell_type": "code",
   "execution_count": 83,
   "outputs": [
    {
     "name": "stderr",
     "output_type": "stream",
     "text": [
      "100%|██████████████████████████████████████████████████████████████████████████████████████████████████████████████████████████████████████████████████████████████████████████████████████████████████████████████████████████████████████████████████████████████████████████| 14641/14641 [2:52:47<00:00,  1.41it/s]\n"
     ]
    }
   ],
   "source": [
    "arr_df = []\n",
    "accounts = df.account_id.unique().tolist()\n",
    "\n",
    "for account in tqdm(accounts):\n",
    "    df_event_account = df_event[df_event.account_id == account]\n",
    "    df_event_account = numero_de_eventos_por_tipo(account, df_event_account)\n",
    "    arr_df.append(df_event_account)\n"
   ],
   "metadata": {
    "collapsed": false,
    "pycharm": {
     "name": "#%%\n"
    }
   }
  },
  {
   "cell_type": "code",
   "execution_count": 84,
   "outputs": [],
   "source": [
    "_df = pd.concat(arr_df).drop('index',axis=1)\n",
    "df = pd.merge(df, _df, on='account_id', how='left')"
   ],
   "metadata": {
    "collapsed": false,
    "pycharm": {
     "name": "#%%\n"
    }
   }
  },
  {
   "cell_type": "markdown",
   "source": [
    "### Write dataframe to MongoDB"
   ],
   "metadata": {
    "collapsed": false,
    "pycharm": {
     "name": "#%% md\n"
    }
   }
  },
  {
   "cell_type": "code",
   "execution_count": 91,
   "outputs": [],
   "source": [
    "from helpers import MongoDAO"
   ],
   "metadata": {
    "collapsed": false,
    "pycharm": {
     "name": "#%%\n"
    }
   }
  },
  {
   "cell_type": "code",
   "execution_count": 92,
   "outputs": [],
   "source": [
    "mongo = MongoDAO('admin','admin','localhost',27017)"
   ],
   "metadata": {
    "collapsed": false,
    "pycharm": {
     "name": "#%%\n"
    }
   }
  },
  {
   "cell_type": "code",
   "execution_count": 93,
   "outputs": [],
   "source": [
    "mongo.set_db('bra_paralelo')"
   ],
   "metadata": {
    "collapsed": false,
    "pycharm": {
     "name": "#%%\n"
    }
   }
  },
  {
   "cell_type": "code",
   "execution_count": 94,
   "outputs": [],
   "source": [
    "mongo.set_collection('feature_store')"
   ],
   "metadata": {
    "collapsed": false,
    "pycharm": {
     "name": "#%%\n"
    }
   }
  },
  {
   "cell_type": "code",
   "execution_count": 95,
   "outputs": [],
   "source": [
    "account_store_collection = mongo.get_collection()"
   ],
   "metadata": {
    "collapsed": false,
    "pycharm": {
     "name": "#%%\n"
    }
   }
  },
  {
   "cell_type": "code",
   "execution_count": 96,
   "outputs": [
    {
     "data": {
      "text/plain": "<pymongo.results.InsertManyResult at 0x197c5175880>"
     },
     "execution_count": 96,
     "metadata": {},
     "output_type": "execute_result"
    }
   ],
   "source": [
    "account_store_collection.insert_many(df.to_dict('records'))"
   ],
   "metadata": {
    "collapsed": false,
    "pycharm": {
     "name": "#%%\n"
    }
   }
  },
  {
   "cell_type": "code",
   "execution_count": null,
   "outputs": [],
   "source": [],
   "metadata": {
    "collapsed": false,
    "pycharm": {
     "name": "#%%\n"
    }
   }
  }
 ],
 "metadata": {
  "kernelspec": {
   "display_name": "Python 3",
   "language": "python",
   "name": "python3"
  },
  "language_info": {
   "codemirror_mode": {
    "name": "ipython",
    "version": 2
   },
   "file_extension": ".py",
   "mimetype": "text/x-python",
   "name": "python",
   "nbconvert_exporter": "python",
   "pygments_lexer": "ipython2",
   "version": "2.7.6"
  }
 },
 "nbformat": 4,
 "nbformat_minor": 0
}